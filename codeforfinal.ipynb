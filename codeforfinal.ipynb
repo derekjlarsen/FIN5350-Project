{
 "cells": [
  {
   "cell_type": "raw",
   "metadata": {},
   "source": [
    "Code for Project"
   ]
  },
  {
   "cell_type": "code",
   "execution_count": 1,
   "metadata": {},
   "outputs": [],
   "source": [
    "def tBillYield():\n",
    "    \n",
    "    from bs4 import BeautifulSoup\n",
    "    import urllib.request as urllib2\n",
    "    \n",
    "    url = \"http://www.treasury.gov/resource-center/data-chart-center/interest-rates/Pages/TextView.aspx?data=yield\"\n",
    "    content = urllib2.urlopen(url).read()\n",
    "    soup = BeautifulSoup(content, \"lxml\")\n",
    "    \n",
    "    # Last day\n",
    "    table = soup.find(\"table\", attrs={'class' : 't-chart'})\n",
    "    rows= table.find_all('tr')\n",
    "    lastrow = len(rows)-1\n",
    "    cells = rows[lastrow].find_all(\"td\")\n",
    "    date = cells[0].get_text()\n",
    "    r3 = float(cells[2].get_text())\n",
    "    r = r3/100\n",
    "    return r"
   ]
  },
  {
   "cell_type": "code",
   "execution_count": 2,
   "metadata": {},
   "outputs": [
    {
     "data": {
      "text/plain": [
       "0.0233"
      ]
     },
     "execution_count": 2,
     "metadata": {},
     "output_type": "execute_result"
    }
   ],
   "source": [
    "tBillYield()"
   ]
  },
  {
   "cell_type": "code",
   "execution_count": 4,
   "metadata": {},
   "outputs": [],
   "source": [
    "def getTicker(ticker):\n",
    "    import pyodbc \n",
    "    cnxn = pyodbc.connect('DRIVER={SQL Server};SERVER=stairway.usu.edu;DATABASE=stephenbreeze;UID=stephenbreeze;PWD=sbre8733')\n",
    "    \n",
    "    cursor = cnxn.cursor()\n",
    "    while True:\n",
    "        try:\n",
    "            cursor.execute('exec test1 @Ticker = ' ''+ticker+'' '')\n",
    "            for row in cursor.fetchall():\n",
    "                y = [x for x in row]\n",
    "            return y\n",
    "            break\n",
    "        except UnboundLocalError:\n",
    "            try:\n",
    "                cursor.execute('exec t2 @Ticker = ' ''+ticker+'' '')\n",
    "                for row in cursor.fetchall():\n",
    "                    y = [x for x in row]\n",
    "                return y\n",
    "                break\n",
    "            except UnboundLocalError:\n",
    "                try:\n",
    "                    cursor.execute('exec t3 @Ticker = ' ''+ticker+'' '')\n",
    "                    for row in cursor.fetchall():\n",
    "                        y = [x for x in row]\n",
    "                    return y\n",
    "                    break\n",
    "                except UnboundLocalError:\n",
    "                    try:\n",
    "                        cursor.execute('exec t4 @Ticker = ' ''+ticker+'' '')\n",
    "                        for row in cursor.fetchall():\n",
    "                            y = [x for x in row]\n",
    "                        return y\n",
    "                        break\n",
    "                    except UnboundLocalError:\n",
    "                        try:\n",
    "                            cursor.execute('exec t5 @Ticker = ' ''+ticker+'' '')\n",
    "                            for row in cursor.fetchall():\n",
    "                                y = [x for x in row]\n",
    "                            return y\n",
    "                            break\n",
    "                        except UnboundLocalError:\n",
    "                            print(\"Oops, that ticker is not found\")\n",
    "                            break\n"
   ]
  },
  {
   "cell_type": "code",
   "execution_count": 6,
   "metadata": {},
   "outputs": [],
   "source": [
    "ticker = input()"
   ]
  },
  {
   "cell_type": "code",
   "execution_count": 7,
   "metadata": {},
   "outputs": [
    {
     "name": "stdout",
     "output_type": "stream",
     "text": [
      "[178.580002, 0.01846931272153096]\n"
     ]
    }
   ],
   "source": [
    "print (getTicker(ticker))"
   ]
  },
  {
   "cell_type": "code",
   "execution_count": 27,
   "metadata": {},
   "outputs": [
    {
     "name": "stdout",
     "output_type": "stream",
     "text": [
      "[347.869995, 0.017582193680886427, 0.08, 0.0]\n"
     ]
    }
   ],
   "source": [
    "ticker = 'TSLA'\n",
    "\n",
    "print (getTicker(ticker))"
   ]
  },
  {
   "cell_type": "code",
   "execution_count": null,
   "metadata": {},
   "outputs": [],
   "source": []
  }
 ],
 "metadata": {
  "kernelspec": {
   "display_name": "Python 3",
   "language": "python",
   "name": "python3"
  },
  "language_info": {
   "codemirror_mode": {
    "name": "ipython",
    "version": 3
   },
   "file_extension": ".py",
   "mimetype": "text/x-python",
   "name": "python",
   "nbconvert_exporter": "python",
   "pygments_lexer": "ipython3",
   "version": "3.6.5"
  }
 },
 "nbformat": 4,
 "nbformat_minor": 2
}
