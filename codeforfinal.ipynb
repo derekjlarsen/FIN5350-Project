{
 "cells": [
  {
   "cell_type": "markdown",
   "metadata": {},
   "source": [
    "## SQL Market Data"
   ]
  },
  {
   "cell_type": "markdown",
   "metadata": {},
   "source": [
    "code to scrape the current 3 month t-bill yield from treasury.gov"
   ]
  },
  {
   "cell_type": "code",
   "execution_count": 1,
   "metadata": {},
   "outputs": [],
   "source": [
    "def tBillYield():\n",
    "    \n",
    "    from bs4 import BeautifulSoup\n",
    "    import urllib.request as urllib2\n",
    "    \n",
    "    url = \"http://www.treasury.gov/resource-center/data-chart-center/interest-rates/Pages/TextView.aspx?data=yield\"\n",
    "    content = urllib2.urlopen(url).read()\n",
    "    soup = BeautifulSoup(content, \"lxml\")\n",
    "    \n",
    "    # Last day\n",
    "    table = soup.find(\"table\", attrs={'class' : 't-chart'})\n",
    "    rows= table.find_all('tr')\n",
    "    lastrow = len(rows)-1\n",
    "    cells = rows[lastrow].find_all(\"td\")\n",
    "    date = cells[0].get_text()\n",
    "    r3 = float(cells[2].get_text())\n",
    "    r = r3/100\n",
    "    return r"
   ]
  },
  {
   "cell_type": "markdown",
   "metadata": {},
   "source": [
    "This code executes stored procedures saved in sql server to return the most recent spot rate for any given ticker. "
   ]
  },
  {
   "cell_type": "code",
   "execution_count": 2,
   "metadata": {},
   "outputs": [],
   "source": [
    "def getSpot(ticker):\n",
    "    import pyodbc \n",
    "    cnxn = pyodbc.connect('DRIVER={SQL Server};SERVER=stairway.usu.edu;DATABASE=5350FIN;UID=fin5350;PWD=aggies2018')\n",
    "    \n",
    "    cursor = cnxn.cursor()\n",
    "    while True:\n",
    "        try:\n",
    "            cursor.execute('exec SP1 @Ticker = ' ''+ticker+'' '')\n",
    "            for row in cursor.fetchall():\n",
    "                y = [x for x in row]\n",
    "            return y[0]\n",
    "            break\n",
    "        except UnboundLocalError:\n",
    "            try:\n",
    "                cursor.execute('exec SP2 @Ticker = ' ''+ticker+'' '')\n",
    "                for row in cursor.fetchall():\n",
    "                    y = [x for x in row]\n",
    "                return y[0]\n",
    "                break\n",
    "            except UnboundLocalError:\n",
    "                try:\n",
    "                    cursor.execute('exec SP3 @Ticker = ' ''+ticker+'' '')\n",
    "                    for row in cursor.fetchall():\n",
    "                        y = [x for x in row]\n",
    "                    return y[0]\n",
    "                    break\n",
    "                except UnboundLocalError:\n",
    "                    try:\n",
    "                        cursor.execute('exec SP4 @Ticker = ' ''+ticker+'' '')\n",
    "                        for row in cursor.fetchall():\n",
    "                            y = [x for x in row]\n",
    "                        return y[0]\n",
    "                        break\n",
    "                    except UnboundLocalError:\n",
    "                        try:\n",
    "                            cursor.execute('exec SP5 @Ticker = ' ''+ticker+'' '')\n",
    "                            for row in cursor.fetchall():\n",
    "                                y = [x for x in row]\n",
    "                            return y[0]\n",
    "                            break\n",
    "                        except UnboundLocalError:\n",
    "                            print(\"Oops! that ticker is not found in the database\")\n",
    "                            break\n"
   ]
  },
  {
   "cell_type": "markdown",
   "metadata": {},
   "source": [
    "This code executes stored procedures saved in sql server to return the most recent volatility for any given ticker."
   ]
  },
  {
   "cell_type": "code",
   "execution_count": 3,
   "metadata": {},
   "outputs": [],
   "source": [
    "def getVol(ticker):\n",
    "    import pyodbc \n",
    "    cnxn = pyodbc.connect('DRIVER={SQL Server};SERVER=stairway.usu.edu;DATABASE=5350FIN;UID=fin5350;PWD=aggies2018')\n",
    "    \n",
    "    cursor = cnxn.cursor()\n",
    "    while True:\n",
    "        try:\n",
    "            cursor.execute('exec SP1 @Ticker = ' ''+ticker+'' '')\n",
    "            for row in cursor.fetchall():\n",
    "                y = [x for x in row]\n",
    "            return y[1]\n",
    "            break\n",
    "        except UnboundLocalError:\n",
    "            try:\n",
    "                cursor.execute('exec SP2 @Ticker = ' ''+ticker+'' '')\n",
    "                for row in cursor.fetchall():\n",
    "                    y = [x for x in row]\n",
    "                return y[1]\n",
    "                break\n",
    "            except UnboundLocalError:\n",
    "                try:\n",
    "                    cursor.execute('exec SP3 @Ticker = ' ''+ticker+'' '')\n",
    "                    for row in cursor.fetchall():\n",
    "                        y = [x for x in row]\n",
    "                    return y[1]\n",
    "                    break\n",
    "                except UnboundLocalError:\n",
    "                    try:\n",
    "                        cursor.execute('exec SP4 @Ticker = ' ''+ticker+'' '')\n",
    "                        for row in cursor.fetchall():\n",
    "                            y = [x for x in row]\n",
    "                        return y[1]\n",
    "                        break\n",
    "                    except UnboundLocalError:\n",
    "                        try:\n",
    "                            cursor.execute('exec SP5 @Ticker = ' ''+ticker+'' '')\n",
    "                            for row in cursor.fetchall():\n",
    "                                y = [x for x in row]\n",
    "                            return y[1]\n",
    "                            break\n",
    "                        except UnboundLocalError:\n",
    "                            print(\"Oops! that ticker is not found in the database\")\n",
    "                            break"
   ]
  },
  {
   "cell_type": "markdown",
   "metadata": {},
   "source": [
    "The following runs a query agaisted the data base to return the spot price  for any given stock for any given date."
   ]
  },
  {
   "cell_type": "code",
   "execution_count": 4,
   "metadata": {},
   "outputs": [],
   "source": [
    "def getvolhistoric(ticker,date):\n",
    "    import pyodbc \n",
    "    import datetime\n",
    "    cnxn = pyodbc.connect('DRIVER={SQL Server};SERVER=stairway.usu.edu;DATABASE=5350FIN;UID=fin5350;PWD=aggies2018')\n",
    "    \n",
    "    cursor = cnxn.cursor()\n",
    "    while True:\n",
    "        try:\n",
    "            sql = 'exec SPdt @Ticker = ?, @Date  =  ?'\n",
    "            cursor.execute(sql, (ticker,date))\n",
    "    \n",
    "            for row in cursor.fetchall():\n",
    "                y = [x for x in row]\n",
    "            return y[1]\n",
    "            break\n",
    "        except UnboundLocalError:\n",
    "            print('Oops ticker or date is invalid')\n",
    "            break\n",
    "            "
   ]
  },
  {
   "cell_type": "markdown",
   "metadata": {},
   "source": [
    "The following runs a query agaisted the data base to return the volitily for any given stock for any given date."
   ]
  },
  {
   "cell_type": "code",
   "execution_count": 5,
   "metadata": {},
   "outputs": [],
   "source": [
    "def getspothistoric(ticker,date):\n",
    "    import pyodbc \n",
    "    import datetime\n",
    "    cnxn = pyodbc.connect('DRIVER={SQL Server};SERVER=stairway.usu.edu;DATABASE=5350FIN;UID=fin5350;PWD=aggies2018')\n",
    "    \n",
    "    cursor = cnxn.cursor()\n",
    "    while True:\n",
    "        try:\n",
    "            sql = 'exec SPdt @Ticker = ?, @Date  =  ?'\n",
    "            cursor.execute(sql, (ticker,date))\n",
    "    \n",
    "            for row in cursor.fetchall():\n",
    "                y = [x for x in row]\n",
    "            return y[0]\n",
    "            break\n",
    "        except UnboundLocalError:\n",
    "            print('Oops! ticker or date is invalid')\n",
    "            break"
   ]
  },
  {
   "cell_type": "markdown",
   "metadata": {},
   "source": [
    "#### __Historical__"
   ]
  },
  {
   "cell_type": "code",
   "execution_count": 6,
   "metadata": {},
   "outputs": [
    {
     "name": "stdout",
     "output_type": "stream",
     "text": [
      "AAPL    20150508 \n",
      "\n",
      "\t\t Historical \n",
      "\n",
      " Volatility =  0.011902572050119353\n",
      " Spot Price =  127.620003\n",
      " 3 month Treasury Yield (rate) =   0.0242\n"
     ]
    }
   ],
   "source": [
    "\n",
    "## schoose a date > 2012 in this intiger form yyyymmdd\n",
    "date = 20150508\n",
    "\n",
    "## sp500 stock all caps in quotes 'STOCK'\n",
    "ticker = 'AAPL'\n",
    "\n",
    "\n",
    "print (ticker, '  ', date, '\\n')\n",
    "print('\\t\\t Historical \\n')\n",
    "print(' Volatility = ', getvolhistoric(ticker, date))\n",
    "print(' Spot Price = ', getspothistoric(ticker,date))\n",
    "print(' 3 month Treasury Yield (rate) =  ', tBillYield())"
   ]
  },
  {
   "cell_type": "markdown",
   "metadata": {},
   "source": [
    "#### __Default__"
   ]
  },
  {
   "cell_type": "code",
   "execution_count": 7,
   "metadata": {},
   "outputs": [
    {
     "name": "stdout",
     "output_type": "stream",
     "text": [
      "ZION \n",
      "\n",
      "\t\tDefault\n",
      " \n",
      "Volatilty =  0.06734027719698776\n",
      "Spot Price =  45.889999\n",
      "3 month Treasury Yield (rate) =  0.0242\n"
     ]
    }
   ],
   "source": [
    "## Default gives you the most recent closing spot and volitilty for any given stock\n",
    "\n",
    "## sp500 stock all caps in quotes 'STOCK'\n",
    "ticker = 'ZION'\n",
    "\n",
    "print (ticker, '\\n')\n",
    "print('\\t\\tDefault\\n ')\n",
    "print('Volatilty = ', getVol(ticker))\n",
    "print('Spot Price = ', getSpot(ticker))\n",
    "print('3 month Treasury Yield (rate) = ', tBillYield())"
   ]
  },
  {
   "cell_type": "code",
   "execution_count": null,
   "metadata": {},
   "outputs": [],
   "source": []
  },
  {
   "cell_type": "code",
   "execution_count": null,
   "metadata": {},
   "outputs": [],
   "source": []
  },
  {
   "cell_type": "code",
   "execution_count": null,
   "metadata": {},
   "outputs": [],
   "source": []
  },
  {
   "cell_type": "markdown",
   "metadata": {},
   "source": [
    "Is this what I want my end result to look like?"
   ]
  }
 ],
 "metadata": {
  "kernelspec": {
   "display_name": "Python 3",
   "language": "python",
   "name": "python3"
  },
  "language_info": {
   "codemirror_mode": {
    "name": "ipython",
    "version": 3
   },
   "file_extension": ".py",
   "mimetype": "text/x-python",
   "name": "python",
   "nbconvert_exporter": "python",
   "pygments_lexer": "ipython3",
   "version": "3.6.5"
  }
 },
 "nbformat": 4,
 "nbformat_minor": 2
}
