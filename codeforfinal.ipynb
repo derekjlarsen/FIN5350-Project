{
 "cells": [
  {
   "cell_type": "markdown",
   "metadata": {},
   "source": [
    "Code for Project"
   ]
  },
  {
   "cell_type": "code",
   "execution_count": 1,
   "metadata": {},
   "outputs": [],
   "source": [
    "def tBillYield():\n",
    "    \n",
    "    from bs4 import BeautifulSoup\n",
    "    import urllib.request as urllib2\n",
    "    \n",
    "    url = \"http://www.treasury.gov/resource-center/data-chart-center/interest-rates/Pages/TextView.aspx?data=yield\"\n",
    "    content = urllib2.urlopen(url).read()\n",
    "    soup = BeautifulSoup(content, \"lxml\")\n",
    "    \n",
    "    # Last day\n",
    "    table = soup.find(\"table\", attrs={'class' : 't-chart'})\n",
    "    rows= table.find_all('tr')\n",
    "    lastrow = len(rows)-1\n",
    "    cells = rows[lastrow].find_all(\"td\")\n",
    "    date = cells[0].get_text()\n",
    "    r3 = float(cells[2].get_text())\n",
    "    r = r3/100\n",
    "    return r"
   ]
  },
  {
   "cell_type": "code",
   "execution_count": 2,
   "metadata": {},
   "outputs": [],
   "source": [
    "def getSpot(ticker):\n",
    "    import pyodbc \n",
    "    cnxn = pyodbc.connect('DRIVER={SQL Server};SERVER=stairway.usu.edu;DATABASE=stephenbreeze;UID=stephenbreeze;PWD=sbre8733')\n",
    "    \n",
    "    cursor = cnxn.cursor()\n",
    "    while True:\n",
    "        try:\n",
    "            cursor.execute('exec SP1 @Ticker = ' ''+ticker+'' '')\n",
    "            for row in cursor.fetchall():\n",
    "                y = [x for x in row]\n",
    "            return y[0]\n",
    "            break\n",
    "        except UnboundLocalError:\n",
    "            try:\n",
    "                cursor.execute('exec SP2 @Ticker = ' ''+ticker+'' '')\n",
    "                for row in cursor.fetchall():\n",
    "                    y = [x for x in row]\n",
    "                return y[0]\n",
    "                break\n",
    "            except UnboundLocalError:\n",
    "                try:\n",
    "                    cursor.execute('exec SP3 @Ticker = ' ''+ticker+'' '')\n",
    "                    for row in cursor.fetchall():\n",
    "                        y = [x for x in row]\n",
    "                    return y[0]\n",
    "                    break\n",
    "                except UnboundLocalError:\n",
    "                    try:\n",
    "                        cursor.execute('exec SP4 @Ticker = ' ''+ticker+'' '')\n",
    "                        for row in cursor.fetchall():\n",
    "                            y = [x for x in row]\n",
    "                        return y[0]\n",
    "                        break\n",
    "                    except UnboundLocalError:\n",
    "                        try:\n",
    "                            cursor.execute('exec SP5 @Ticker = ' ''+ticker+'' '')\n",
    "                            for row in cursor.fetchall():\n",
    "                                y = [x for x in row]\n",
    "                            return y[0]\n",
    "                            break\n",
    "                        except UnboundLocalError:\n",
    "                            print(\"Oops! that ticker is not found in the database\")\n",
    "                            break\n"
   ]
  },
  {
   "cell_type": "code",
   "execution_count": 3,
   "metadata": {},
   "outputs": [],
   "source": [
    "def getVol(ticker):\n",
    "    import pyodbc \n",
    "    cnxn = pyodbc.connect('DRIVER={SQL Server};SERVER=stairway.usu.edu;DATABASE=stephenbreeze;UID=stephenbreeze;PWD=sbre8733')\n",
    "    \n",
    "    cursor = cnxn.cursor()\n",
    "    while True:\n",
    "        try:\n",
    "            cursor.execute('exec SP1 @Ticker = ' ''+ticker+'' '')\n",
    "            for row in cursor.fetchall():\n",
    "                y = [x for x in row]\n",
    "            return y[1]\n",
    "            break\n",
    "        except UnboundLocalError:\n",
    "            try:\n",
    "                cursor.execute('exec SP2 @Ticker = ' ''+ticker+'' '')\n",
    "                for row in cursor.fetchall():\n",
    "                    y = [x for x in row]\n",
    "                return y[1]\n",
    "                break\n",
    "            except UnboundLocalError:\n",
    "                try:\n",
    "                    cursor.execute('exec SP3 @Ticker = ' ''+ticker+'' '')\n",
    "                    for row in cursor.fetchall():\n",
    "                        y = [x for x in row]\n",
    "                    return y[1]\n",
    "                    break\n",
    "                except UnboundLocalError:\n",
    "                    try:\n",
    "                        cursor.execute('exec SP4 @Ticker = ' ''+ticker+'' '')\n",
    "                        for row in cursor.fetchall():\n",
    "                            y = [x for x in row]\n",
    "                        return y[1]\n",
    "                        break\n",
    "                    except UnboundLocalError:\n",
    "                        try:\n",
    "                            cursor.execute('exec SP5 @Ticker = ' ''+ticker+'' '')\n",
    "                            for row in cursor.fetchall():\n",
    "                                y = [x for x in row]\n",
    "                            return y[1]\n",
    "                            break\n",
    "                        except UnboundLocalError:\n",
    "                            print(\"Oops! that ticker is not found in the database\")\n",
    "                            break"
   ]
  },
  {
   "cell_type": "code",
   "execution_count": 4,
   "metadata": {},
   "outputs": [],
   "source": [
    "def getDiv():\n",
    "    div = 0.0\n",
    "    return div"
   ]
  },
  {
   "cell_type": "code",
   "execution_count": 8,
   "metadata": {},
   "outputs": [],
   "source": [
    "spot = getSpot(ticker)\n",
    "vol =  getVol(ticker)\n",
    "r = tBillYield()\n",
    "div = getDiv()"
   ]
  },
  {
   "cell_type": "code",
   "execution_count": 6,
   "metadata": {},
   "outputs": [],
   "source": [
    "\n",
    "## Type in the ticker with '' and all caps EXAMPLE =  'APPL'\n",
    "ticker = input()"
   ]
  },
  {
   "cell_type": "code",
   "execution_count": 9,
   "metadata": {},
   "outputs": [
    {
     "name": "stdout",
     "output_type": "stream",
     "text": [
      "This is the Spot\n",
      "72.349998\n",
      "This is the Vol\n",
      "0.018196293684323628\n",
      "This is the Rate\n",
      "0.0235\n",
      "This is Div\n",
      "0.0\n"
     ]
    }
   ],
   "source": [
    "print('This is the Spot')\n",
    "print (spot)\n",
    "print('This is the Vol')\n",
    "print (vol)\n",
    "print('This is the Rate')\n",
    "print(r)\n",
    "print('This is Div')\n",
    "print(div)"
   ]
  },
  {
   "cell_type": "code",
   "execution_count": 42,
   "metadata": {},
   "outputs": [
    {
     "data": {
      "text/plain": [
       "178.580002"
      ]
     },
     "execution_count": 42,
     "metadata": {},
     "output_type": "execute_result"
    }
   ],
   "source": [
    "class MarketData:\n",
    "    def __init__(spot, vol, r, div):\n",
    "        self.__spot = spot\n",
    "        self.__vol = vol\n",
    "        self.__rate = r\n",
    "        self.__div = div\n",
    "        \n",
    "class default:\n",
    "    \n",
    "class historical: \n",
    "        "
   ]
  },
  {
   "cell_type": "markdown",
   "metadata": {},
   "source": [
    "Is this what I want my end result to look like?"
   ]
  },
  {
   "cell_type": "code",
   "execution_count": 16,
   "metadata": {},
   "outputs": [
    {
     "ename": "NameError",
     "evalue": "name 'Marketdata' is not defined",
     "output_type": "error",
     "traceback": [
      "\u001b[1;31m---------------------------------------------------------------------------\u001b[0m",
      "\u001b[1;31mNameError\u001b[0m                                 Traceback (most recent call last)",
      "\u001b[1;32m<ipython-input-16-c102379d40c8>\u001b[0m in \u001b[0;36m<module>\u001b[1;34m()\u001b[0m\n\u001b[1;32m----> 1\u001b[1;33m \u001b[0mprice\u001b[0m \u001b[1;33m=\u001b[0m \u001b[0mMarketdata\u001b[0m\u001b[1;33m(\u001b[0m\u001b[1;34m'AAPL'\u001b[0m\u001b[1;33m,\u001b[0m \u001b[0mdefault\u001b[0m\u001b[1;33m)\u001b[0m\u001b[1;33m\u001b[0m\u001b[0m\n\u001b[0m",
      "\u001b[1;31mNameError\u001b[0m: name 'Marketdata' is not defined"
     ]
    }
   ],
   "source": [
    "mdata = Marketdata(ticker, default) \n",
    "mdata.default('AAPL')"
   ]
  },
  {
   "cell_type": "code",
   "execution_count": null,
   "metadata": {},
   "outputs": [],
   "source": [
    "mdata = Marketdata(ticker, Date, historical)\n",
    "mdata.historical('AAPL','2018-11-11')"
   ]
  },
  {
   "cell_type": "code",
   "execution_count": 33,
   "metadata": {},
   "outputs": [],
   "source": [
    "def getvolhistoric(ticker, date):\n",
    "    import pyodbc \n",
    "    import datetime\n",
    "    cnxn = pyodbc.connect('DRIVER={SQL Server};SERVER=stairway.usu.edu;DATABASE=stephenbreeze;UID=stephenbreeze;PWD=sbre8733')\n",
    "    \n",
    "    cursor = cnxn.cursor()\n",
    "    while True:\n",
    "        try:\n",
    "            cursor.execute('exec SQLdt @Ticker = ' ''+ ticker +'' ', @Date  = ' ''+ date +'' '')\n",
    "    \n",
    "            for row in cursor.fetchall():\n",
    "                y = [x for x in row]\n",
    "            return y[1]\n",
    "            break\n",
    "        except UnboundLocalError:\n",
    "            print('Oops ticker or date is invalid')\n",
    "            break\n",
    "            \n",
    "            "
   ]
  },
  {
   "cell_type": "code",
   "execution_count": 34,
   "metadata": {},
   "outputs": [
    {
     "ename": "ProgrammingError",
     "evalue": "('42000', \"[42000] [Microsoft][ODBC SQL Server Driver][SQL Server]Incorrect syntax near '-'. (102) (SQLExecDirectW)\")",
     "output_type": "error",
     "traceback": [
      "\u001b[1;31m---------------------------------------------------------------------------\u001b[0m",
      "\u001b[1;31mProgrammingError\u001b[0m                          Traceback (most recent call last)",
      "\u001b[1;32m<ipython-input-34-37f06717203c>\u001b[0m in \u001b[0;36m<module>\u001b[1;34m()\u001b[0m\n\u001b[0;32m      2\u001b[0m \u001b[0mticker\u001b[0m \u001b[1;33m=\u001b[0m \u001b[1;34m'A'\u001b[0m\u001b[1;33m\u001b[0m\u001b[0m\n\u001b[0;32m      3\u001b[0m \u001b[1;33m\u001b[0m\u001b[0m\n\u001b[1;32m----> 4\u001b[1;33m \u001b[0mprint\u001b[0m\u001b[1;33m(\u001b[0m\u001b[0mgetvolhistoric\u001b[0m\u001b[1;33m(\u001b[0m\u001b[0mticker\u001b[0m\u001b[1;33m,\u001b[0m \u001b[0mdate\u001b[0m\u001b[1;33m)\u001b[0m\u001b[1;33m)\u001b[0m\u001b[1;33m\u001b[0m\u001b[0m\n\u001b[0m",
      "\u001b[1;32m<ipython-input-33-5e537016efff>\u001b[0m in \u001b[0;36mgetvolhistoric\u001b[1;34m(ticker, date)\u001b[0m\n\u001b[0;32m      7\u001b[0m     \u001b[1;32mwhile\u001b[0m \u001b[1;32mTrue\u001b[0m\u001b[1;33m:\u001b[0m\u001b[1;33m\u001b[0m\u001b[0m\n\u001b[0;32m      8\u001b[0m         \u001b[1;32mtry\u001b[0m\u001b[1;33m:\u001b[0m\u001b[1;33m\u001b[0m\u001b[0m\n\u001b[1;32m----> 9\u001b[1;33m             \u001b[0mcursor\u001b[0m\u001b[1;33m.\u001b[0m\u001b[0mexecute\u001b[0m\u001b[1;33m(\u001b[0m\u001b[1;34m'exec SQLdt @Ticker = '\u001b[0m \u001b[1;34m''\u001b[0m\u001b[1;33m+\u001b[0m \u001b[0mticker\u001b[0m \u001b[1;33m+\u001b[0m\u001b[1;34m''\u001b[0m \u001b[1;34m', @Date  = '\u001b[0m \u001b[1;34m''\u001b[0m\u001b[1;33m+\u001b[0m \u001b[0mdate\u001b[0m \u001b[1;33m+\u001b[0m\u001b[1;34m''\u001b[0m \u001b[1;34m''\u001b[0m\u001b[1;33m)\u001b[0m\u001b[1;33m\u001b[0m\u001b[0m\n\u001b[0m\u001b[0;32m     10\u001b[0m \u001b[1;33m\u001b[0m\u001b[0m\n\u001b[0;32m     11\u001b[0m             \u001b[1;32mfor\u001b[0m \u001b[0mrow\u001b[0m \u001b[1;32min\u001b[0m \u001b[0mcursor\u001b[0m\u001b[1;33m.\u001b[0m\u001b[0mfetchall\u001b[0m\u001b[1;33m(\u001b[0m\u001b[1;33m)\u001b[0m\u001b[1;33m:\u001b[0m\u001b[1;33m\u001b[0m\u001b[0m\n",
      "\u001b[1;31mProgrammingError\u001b[0m: ('42000', \"[42000] [Microsoft][ODBC SQL Server Driver][SQL Server]Incorrect syntax near '-'. (102) (SQLExecDirectW)\")"
     ]
    }
   ],
   "source": [
    "date = '2017-12-03'\n",
    "ticker = 'A'\n",
    "\n",
    "print(getvolhistoric(ticker, date))"
   ]
  },
  {
   "cell_type": "code",
   "execution_count": null,
   "metadata": {},
   "outputs": [],
   "source": []
  }
 ],
 "metadata": {
  "kernelspec": {
   "display_name": "Python 3",
   "language": "python",
   "name": "python3"
  },
  "language_info": {
   "codemirror_mode": {
    "name": "ipython",
    "version": 3
   },
   "file_extension": ".py",
   "mimetype": "text/x-python",
   "name": "python",
   "nbconvert_exporter": "python",
   "pygments_lexer": "ipython3",
   "version": "3.6.5"
  }
 },
 "nbformat": 4,
 "nbformat_minor": 2
}
